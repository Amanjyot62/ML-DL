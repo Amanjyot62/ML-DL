{
 "cells": [
  {
   "cell_type": "markdown",
   "metadata": {},
   "source": [
    "# Regression\n",
    "\n",
    "1. Linear Regression\n",
    "2. Polynomial Regression\n",
    "3. Ridge Regression\n",
    "4. Lasso Regression\n",
    "5. Bayesian Linear Regression\n",
    "6. Principal Components Regression\n",
    "7. Partial Least Squares Regression\n",
    "8. Elastic Net Regression\n",
    "\n",
    "\n",
    "\n"
   ]
  },
  {
   "cell_type": "markdown",
   "metadata": {},
   "source": [
    "**Linear regression is a quiet and the simplest statistical regression method used for predictive analysis in machine learning.**\n",
    "\n",
    "**Linear regression shows the linear relationship between the independent(predictor) variable \n",
    "i.e. X-axis and the dependent(output) variable i.e. Y-axis, called linear regression.**\n",
    "\n",
    "**If there is a single input variable X(dependent variable), such linear regression is called simple linear regression.**\n",
    "\n",
    "### Y= B0 + B1 X.\n",
    "\n",
    "**B0** -> Slope\n",
    "**B1** -> Coeffiecient of X variable\n",
    "\n",
    "**Random Error(Residuals)**\n",
    "\n",
    "In regression, the difference between the observed value of the dependent variable(yi) and the predicted value(predicted) is called the residuals.\n",
    "\n",
    "**εi =  ypredicted –   yi**\n",
    "\n",
    "**Assumptions :**\n",
    "\n",
    "**Linear relationship** -  relations between the independent and dependent variables must be linear.\n",
    "\n",
    "**Multivariate normality** --it suggests that the linear combination of the random variables should have a normal distribution\n",
    "\n",
    "**No or little multicollinearity** - no or little multicollinearity. Multicollinearity is the phenomenon when a number of the explanatory variables are strongly correlated.\n",
    "\n",
    "**No auto-correlation** -- Observations of the error term are uncorrelated with each other\n",
    "\n",
    "**Homoscedasticity** - Homoscedasticity in a model means that the error is constant along the values of the dependent variable.\n",
    "\n",
    "**Normality of the residuals** -residuals should follow a normal distribution\n"
   ]
  },
  {
   "cell_type": "code",
   "execution_count": 2,
   "metadata": {},
   "outputs": [],
   "source": [
    "import matplotlib.pyplot as plt\n",
    "import seaborn as sns; sns.set()\n",
    "import numpy as np"
   ]
  },
  {
   "cell_type": "code",
   "execution_count": 3,
   "metadata": {},
   "outputs": [
    {
     "data": {
      "image/png": "[encoded data removed]",
      "text/plain": [
       "<Figure size 432x288 with 1 Axes>"
      ]
     },
     "metadata": {},
     "output_type": "display_data"
    }
   ],
   "source": [
    "rng = np.random.RandomState(1)\n",
    "x = 10 * rng.rand(50)\n",
    "y = 2 * x - 5 + rng.randn(50)\n",
    "plt.scatter(x, y);"
   ]
  },
  {
   "cell_type": "code",
   "execution_count": 4,
   "metadata": {},
   "outputs": [
    {
     "data": {
      "image/png": "[encoded data removed]",
      "text/plain": [
       "<Figure size 432x288 with 1 Axes>"
      ]
     },
     "metadata": {},
     "output_type": "display_data"
    }
   ],
   "source": [
    "from sklearn.linear_model import LinearRegression\n",
    "model = LinearRegression(fit_intercept=True)\n",
    "\n",
    "model.fit(x[:, np.newaxis], y)\n",
    "\n",
    "xfit = np.linspace(0, 10, 1000)\n",
    "yfit = model.predict(xfit[:, np.newaxis])\n",
    "\n",
    "plt.scatter(x, y)\n",
    "plt.plot(xfit, yfit);"
   ]
  },
  {
   "cell_type": "code",
   "execution_count": 6,
   "metadata": {},
   "outputs": [
    {
     "name": "stdout",
     "output_type": "stream",
     "text": [
      "Model slope:     2.0272088103606953\n",
      "Model intercept: -4.998577085553204\n"
     ]
    }
   ],
   "source": [
    "#The slope and intercept of the data are contained in the model's fit parameters, \n",
    "#which in Scikit-Learn are always marked by a trailing underscore. \n",
    "#Here the relevant parameters are coef_ and intercept_:\n",
    "\n",
    "\n",
    "print(\"Model slope:    \", model.coef_[0])\n",
    "print(\"Model intercept:\", model.intercept_)"
   ]
  },
  {
   "cell_type": "markdown",
   "metadata": {},
   "source": [
    "**Multiple Linear Regression**\n",
    "\n",
    "Linear Regression is definetly capable of handling more X variables, in case of muti-dimensional data the equation is\n",
    "\n",
    "**Y=B0+B1X1+B2X2+B3X3...**\n",
    "\n",
    "Where B0 is slope and B1,B2,B3.... are Coefficients of X1,X2,X3 variables respectively.\n",
    "\n",
    "As the number of coeficients in linear regression increases, it is difficult to visualize after 3-d plane,\n",
    "\n",
    "Below is an example of muti variable linear regression data and coeffieicnt extracted from the same."
   ]
  },
  {
   "cell_type": "code",
   "execution_count": 8,
   "metadata": {},
   "outputs": [
    {
     "name": "stdout",
     "output_type": "stream",
     "text": [
      "0.50000000000001\n",
      "[ 1.5 -2.   1. ]\n"
     ]
    }
   ],
   "source": [
    "\n",
    "rng = np.random.RandomState(1)\n",
    "X = 10 * rng.rand(100, 3)\n",
    "y = 0.5 + np.dot(X, [1.5, -2., 1.])\n",
    "\n",
    "model.fit(X, y)\n",
    "print(model.intercept_)\n",
    "print(model.coef_)\n",
    "\n",
    "# Here the  data is constructed from three random  values, and the linear regression recovers the coefficients \n",
    "# used to construct the data.\n",
    "\n"
   ]
  },
  {
   "cell_type": "markdown",
   "metadata": {},
   "source": [
    "**Polynomial Regression**\n",
    "\n",
    "Polynomial basis functions\n",
    "\n",
    "This polynomial projection is useful enough that it is built into Scikit-Learn, using the PolynomialFeatures transformer\n"
   ]
  },
  {
   "cell_type": "code",
   "execution_count": 9,
   "metadata": {},
   "outputs": [
    {
     "data": {
      "text/plain": [
       "array([[ 2.,  4.,  8.],\n",
       "       [ 3.,  9., 27.],\n",
       "       [ 4., 16., 64.]])"
      ]
     },
     "execution_count": 9,
     "metadata": {},
     "output_type": "execute_result"
    }
   ],
   "source": [
    "from sklearn.preprocessing import PolynomialFeatures\n",
    "x = np.array([2, 3, 4])\n",
    "poly = PolynomialFeatures(3, include_bias=False)\n",
    "poly.fit_transform(x[:, None])"
   ]
  },
  {
   "cell_type": "code",
   "execution_count": 10,
   "metadata": {},
   "outputs": [],
   "source": [
    "from sklearn.pipeline import make_pipeline\n",
    "poly_model = make_pipeline(PolynomialFeatures(7),\n",
    "                           LinearRegression())"
   ]
  },
  {
   "cell_type": "code",
   "execution_count": 11,
   "metadata": {},
   "outputs": [
    {
     "data": {
      "image/png": "[encoded data removed]",
      "text/plain": [
       "<Figure size 432x288 with 1 Axes>"
      ]
     },
     "metadata": {},
     "output_type": "display_data"
    }
   ],
   "source": [
    "rng = np.random.RandomState(1)\n",
    "x = 10 * rng.rand(50)\n",
    "y = np.sin(x) + 0.1 * rng.randn(50)\n",
    "\n",
    "poly_model.fit(x[:, np.newaxis], y)\n",
    "yfit = poly_model.predict(xfit[:, np.newaxis])\n",
    "\n",
    "plt.scatter(x, y)\n",
    "plt.plot(xfit, yfit);"
   ]
  },
  {
   "cell_type": "markdown",
   "metadata": {},
   "source": [
    "Our linear model, through the use of 7th-order polynomial basis functions, can provide an excellent fit to this non-linear data!\n",
    "\n"
   ]
  }
 ],
 "metadata": {
  "kernelspec": {
   "display_name": "Python 3",
   "language": "python",
   "name": "python3"
  },
  "language_info": {
   "codemirror_mode": {
    "name": "ipython",
    "version": 3
   },
   "file_extension": ".py",
   "mimetype": "text/x-python",
   "name": "python",
   "nbconvert_exporter": "python",
   "pygments_lexer": "ipython3",
   "version": "3.7.6"
  }
 },
 "nbformat": 4,
 "nbformat_minor": 4
}
